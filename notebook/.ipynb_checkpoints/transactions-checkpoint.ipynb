{
 "cells": [
  {
   "cell_type": "code",
   "execution_count": null,
   "metadata": {},
   "outputs": [],
   "source": []
  },
  {
   "cell_type": "markdown",
   "metadata": {},
   "source": [
    "## Dads Club Excel Spreadsheet Formatter\n",
    "\n",
    "Load the sheet and then drop the columns"
   ]
  },
  {
   "cell_type": "markdown",
   "metadata": {},
   "source": [
    "### Imports"
   ]
  },
  {
   "cell_type": "code",
   "execution_count": 30,
   "metadata": {},
   "outputs": [],
   "source": [
    "import re\n",
    "import warnings\n",
    "import numpy as np\n",
    "import pandas as pd\n",
    "from sklearn.model_selection import train_test_split\n",
    "import matplotlib.pyplot as plt\n",
    "\n",
    "from keras.models import Sequential, load_model\n",
    "from keras.layers import Dense, LSTM, Embedding, Dropout\n",
    "from keras.preprocessing.text import Tokenizer\n",
    "from keras.preprocessing.sequence import pad_sequences\n",
    "warnings.filterwarnings('ignore')\n"
   ]
  },
  {
   "cell_type": "markdown",
   "metadata": {},
   "source": [
    "### Loading in Dataset"
   ]
  },
  {
   "cell_type": "code",
   "execution_count": 37,
   "metadata": {},
   "outputs": [
    {
     "ename": "FileNotFoundError",
     "evalue": "File b'./transactions-2020-03-01-2020-03-06.csv' does not exist",
     "output_type": "error",
     "traceback": [
      "\u001b[0;31m---------------------------------------------------------------------------\u001b[0m",
      "\u001b[0;31mFileNotFoundError\u001b[0m                         Traceback (most recent call last)",
      "\u001b[0;32m<ipython-input-37-63c300786338>\u001b[0m in \u001b[0;36m<module>\u001b[0;34m\u001b[0m\n\u001b[1;32m      6\u001b[0m \u001b[0mdf\u001b[0m \u001b[0;34m=\u001b[0m \u001b[0mpd\u001b[0m\u001b[0;34m.\u001b[0m\u001b[0mread_excel\u001b[0m\u001b[0;34m(\u001b[0m\u001b[0;34m'./transactions.xlsx'\u001b[0m\u001b[0;34m,\u001b[0m \u001b[0msheetname\u001b[0m\u001b[0;34m=\u001b[0m\u001b[0;34m'transactions-2020-03-01-2020-03'\u001b[0m\u001b[0;34m)\u001b[0m\u001b[0;34m\u001b[0m\u001b[0;34m\u001b[0m\u001b[0m\n\u001b[1;32m      7\u001b[0m \u001b[0;34m\u001b[0m\u001b[0m\n\u001b[0;32m----> 8\u001b[0;31m \u001b[0mdf2\u001b[0m \u001b[0;34m=\u001b[0m \u001b[0mpd\u001b[0m\u001b[0;34m.\u001b[0m\u001b[0mread_csv\u001b[0m\u001b[0;34m(\u001b[0m\u001b[0;34m'./transactions-2020-03-01-2020-03-06.csv'\u001b[0m\u001b[0;34m)\u001b[0m\u001b[0;34m\u001b[0m\u001b[0;34m\u001b[0m\u001b[0m\n\u001b[0m\u001b[1;32m      9\u001b[0m \u001b[0;34m\u001b[0m\u001b[0m\n\u001b[1;32m     10\u001b[0m \u001b[0mprint\u001b[0m\u001b[0;34m(\u001b[0m\u001b[0;34m\"Column headings:\"\u001b[0m\u001b[0;34m)\u001b[0m\u001b[0;34m\u001b[0m\u001b[0;34m\u001b[0m\u001b[0m\n",
      "\u001b[0;32m/anaconda3/lib/python3.7/site-packages/pandas/io/parsers.py\u001b[0m in \u001b[0;36mparser_f\u001b[0;34m(filepath_or_buffer, sep, delimiter, header, names, index_col, usecols, squeeze, prefix, mangle_dupe_cols, dtype, engine, converters, true_values, false_values, skipinitialspace, skiprows, nrows, na_values, keep_default_na, na_filter, verbose, skip_blank_lines, parse_dates, infer_datetime_format, keep_date_col, date_parser, dayfirst, iterator, chunksize, compression, thousands, decimal, lineterminator, quotechar, quoting, escapechar, comment, encoding, dialect, tupleize_cols, error_bad_lines, warn_bad_lines, skipfooter, doublequote, delim_whitespace, low_memory, memory_map, float_precision)\u001b[0m\n\u001b[1;32m    676\u001b[0m                     skip_blank_lines=skip_blank_lines)\n\u001b[1;32m    677\u001b[0m \u001b[0;34m\u001b[0m\u001b[0m\n\u001b[0;32m--> 678\u001b[0;31m         \u001b[0;32mreturn\u001b[0m \u001b[0m_read\u001b[0m\u001b[0;34m(\u001b[0m\u001b[0mfilepath_or_buffer\u001b[0m\u001b[0;34m,\u001b[0m \u001b[0mkwds\u001b[0m\u001b[0;34m)\u001b[0m\u001b[0;34m\u001b[0m\u001b[0;34m\u001b[0m\u001b[0m\n\u001b[0m\u001b[1;32m    679\u001b[0m \u001b[0;34m\u001b[0m\u001b[0m\n\u001b[1;32m    680\u001b[0m     \u001b[0mparser_f\u001b[0m\u001b[0;34m.\u001b[0m\u001b[0m__name__\u001b[0m \u001b[0;34m=\u001b[0m \u001b[0mname\u001b[0m\u001b[0;34m\u001b[0m\u001b[0;34m\u001b[0m\u001b[0m\n",
      "\u001b[0;32m/anaconda3/lib/python3.7/site-packages/pandas/io/parsers.py\u001b[0m in \u001b[0;36m_read\u001b[0;34m(filepath_or_buffer, kwds)\u001b[0m\n\u001b[1;32m    438\u001b[0m \u001b[0;34m\u001b[0m\u001b[0m\n\u001b[1;32m    439\u001b[0m     \u001b[0;31m# Create the parser.\u001b[0m\u001b[0;34m\u001b[0m\u001b[0;34m\u001b[0m\u001b[0;34m\u001b[0m\u001b[0m\n\u001b[0;32m--> 440\u001b[0;31m     \u001b[0mparser\u001b[0m \u001b[0;34m=\u001b[0m \u001b[0mTextFileReader\u001b[0m\u001b[0;34m(\u001b[0m\u001b[0mfilepath_or_buffer\u001b[0m\u001b[0;34m,\u001b[0m \u001b[0;34m**\u001b[0m\u001b[0mkwds\u001b[0m\u001b[0;34m)\u001b[0m\u001b[0;34m\u001b[0m\u001b[0;34m\u001b[0m\u001b[0m\n\u001b[0m\u001b[1;32m    441\u001b[0m \u001b[0;34m\u001b[0m\u001b[0m\n\u001b[1;32m    442\u001b[0m     \u001b[0;32mif\u001b[0m \u001b[0mchunksize\u001b[0m \u001b[0;32mor\u001b[0m \u001b[0miterator\u001b[0m\u001b[0;34m:\u001b[0m\u001b[0;34m\u001b[0m\u001b[0;34m\u001b[0m\u001b[0m\n",
      "\u001b[0;32m/anaconda3/lib/python3.7/site-packages/pandas/io/parsers.py\u001b[0m in \u001b[0;36m__init__\u001b[0;34m(self, f, engine, **kwds)\u001b[0m\n\u001b[1;32m    785\u001b[0m             \u001b[0mself\u001b[0m\u001b[0;34m.\u001b[0m\u001b[0moptions\u001b[0m\u001b[0;34m[\u001b[0m\u001b[0;34m'has_index_names'\u001b[0m\u001b[0;34m]\u001b[0m \u001b[0;34m=\u001b[0m \u001b[0mkwds\u001b[0m\u001b[0;34m[\u001b[0m\u001b[0;34m'has_index_names'\u001b[0m\u001b[0;34m]\u001b[0m\u001b[0;34m\u001b[0m\u001b[0;34m\u001b[0m\u001b[0m\n\u001b[1;32m    786\u001b[0m \u001b[0;34m\u001b[0m\u001b[0m\n\u001b[0;32m--> 787\u001b[0;31m         \u001b[0mself\u001b[0m\u001b[0;34m.\u001b[0m\u001b[0m_make_engine\u001b[0m\u001b[0;34m(\u001b[0m\u001b[0mself\u001b[0m\u001b[0;34m.\u001b[0m\u001b[0mengine\u001b[0m\u001b[0;34m)\u001b[0m\u001b[0;34m\u001b[0m\u001b[0;34m\u001b[0m\u001b[0m\n\u001b[0m\u001b[1;32m    788\u001b[0m \u001b[0;34m\u001b[0m\u001b[0m\n\u001b[1;32m    789\u001b[0m     \u001b[0;32mdef\u001b[0m \u001b[0mclose\u001b[0m\u001b[0;34m(\u001b[0m\u001b[0mself\u001b[0m\u001b[0;34m)\u001b[0m\u001b[0;34m:\u001b[0m\u001b[0;34m\u001b[0m\u001b[0;34m\u001b[0m\u001b[0m\n",
      "\u001b[0;32m/anaconda3/lib/python3.7/site-packages/pandas/io/parsers.py\u001b[0m in \u001b[0;36m_make_engine\u001b[0;34m(self, engine)\u001b[0m\n\u001b[1;32m   1012\u001b[0m     \u001b[0;32mdef\u001b[0m \u001b[0m_make_engine\u001b[0m\u001b[0;34m(\u001b[0m\u001b[0mself\u001b[0m\u001b[0;34m,\u001b[0m \u001b[0mengine\u001b[0m\u001b[0;34m=\u001b[0m\u001b[0;34m'c'\u001b[0m\u001b[0;34m)\u001b[0m\u001b[0;34m:\u001b[0m\u001b[0;34m\u001b[0m\u001b[0;34m\u001b[0m\u001b[0m\n\u001b[1;32m   1013\u001b[0m         \u001b[0;32mif\u001b[0m \u001b[0mengine\u001b[0m \u001b[0;34m==\u001b[0m \u001b[0;34m'c'\u001b[0m\u001b[0;34m:\u001b[0m\u001b[0;34m\u001b[0m\u001b[0;34m\u001b[0m\u001b[0m\n\u001b[0;32m-> 1014\u001b[0;31m             \u001b[0mself\u001b[0m\u001b[0;34m.\u001b[0m\u001b[0m_engine\u001b[0m \u001b[0;34m=\u001b[0m \u001b[0mCParserWrapper\u001b[0m\u001b[0;34m(\u001b[0m\u001b[0mself\u001b[0m\u001b[0;34m.\u001b[0m\u001b[0mf\u001b[0m\u001b[0;34m,\u001b[0m \u001b[0;34m**\u001b[0m\u001b[0mself\u001b[0m\u001b[0;34m.\u001b[0m\u001b[0moptions\u001b[0m\u001b[0;34m)\u001b[0m\u001b[0;34m\u001b[0m\u001b[0;34m\u001b[0m\u001b[0m\n\u001b[0m\u001b[1;32m   1015\u001b[0m         \u001b[0;32melse\u001b[0m\u001b[0;34m:\u001b[0m\u001b[0;34m\u001b[0m\u001b[0;34m\u001b[0m\u001b[0m\n\u001b[1;32m   1016\u001b[0m             \u001b[0;32mif\u001b[0m \u001b[0mengine\u001b[0m \u001b[0;34m==\u001b[0m \u001b[0;34m'python'\u001b[0m\u001b[0;34m:\u001b[0m\u001b[0;34m\u001b[0m\u001b[0;34m\u001b[0m\u001b[0m\n",
      "\u001b[0;32m/anaconda3/lib/python3.7/site-packages/pandas/io/parsers.py\u001b[0m in \u001b[0;36m__init__\u001b[0;34m(self, src, **kwds)\u001b[0m\n\u001b[1;32m   1706\u001b[0m         \u001b[0mkwds\u001b[0m\u001b[0;34m[\u001b[0m\u001b[0;34m'usecols'\u001b[0m\u001b[0;34m]\u001b[0m \u001b[0;34m=\u001b[0m \u001b[0mself\u001b[0m\u001b[0;34m.\u001b[0m\u001b[0musecols\u001b[0m\u001b[0;34m\u001b[0m\u001b[0;34m\u001b[0m\u001b[0m\n\u001b[1;32m   1707\u001b[0m \u001b[0;34m\u001b[0m\u001b[0m\n\u001b[0;32m-> 1708\u001b[0;31m         \u001b[0mself\u001b[0m\u001b[0;34m.\u001b[0m\u001b[0m_reader\u001b[0m \u001b[0;34m=\u001b[0m \u001b[0mparsers\u001b[0m\u001b[0;34m.\u001b[0m\u001b[0mTextReader\u001b[0m\u001b[0;34m(\u001b[0m\u001b[0msrc\u001b[0m\u001b[0;34m,\u001b[0m \u001b[0;34m**\u001b[0m\u001b[0mkwds\u001b[0m\u001b[0;34m)\u001b[0m\u001b[0;34m\u001b[0m\u001b[0;34m\u001b[0m\u001b[0m\n\u001b[0m\u001b[1;32m   1709\u001b[0m \u001b[0;34m\u001b[0m\u001b[0m\n\u001b[1;32m   1710\u001b[0m         \u001b[0mpassed_names\u001b[0m \u001b[0;34m=\u001b[0m \u001b[0mself\u001b[0m\u001b[0;34m.\u001b[0m\u001b[0mnames\u001b[0m \u001b[0;32mis\u001b[0m \u001b[0;32mNone\u001b[0m\u001b[0;34m\u001b[0m\u001b[0;34m\u001b[0m\u001b[0m\n",
      "\u001b[0;32mpandas/_libs/parsers.pyx\u001b[0m in \u001b[0;36mpandas._libs.parsers.TextReader.__cinit__\u001b[0;34m()\u001b[0m\n",
      "\u001b[0;32mpandas/_libs/parsers.pyx\u001b[0m in \u001b[0;36mpandas._libs.parsers.TextReader._setup_parser_source\u001b[0;34m()\u001b[0m\n",
      "\u001b[0;31mFileNotFoundError\u001b[0m: File b'./transactions-2020-03-01-2020-03-06.csv' does not exist"
     ]
    }
   ],
   "source": [
    "from pandas import ExcelWriter\n",
    "from pandas import ExcelFile\n",
    "\n",
    "pd.set_option('display.max_colwidth', -1)\n",
    "\n",
    "df = pd.read_excel('./transactions.xlsx', sheetname='transactions-2020-03-01-2020-03')\n",
    "\n",
    "df2 = pd.read_csv('./trans.csv')\n",
    "\n",
    "print(\"Column headings:\")\n",
    "list(df.columns)\n",
    "\n",
    "df2.head()\n"
   ]
  },
  {
   "cell_type": "code",
   "execution_count": 32,
   "metadata": {},
   "outputs": [
    {
     "data": {
      "text/plain": [
       "['Date', 'Transaction ID', 'Details', 'Customer Name']"
      ]
     },
     "execution_count": 32,
     "metadata": {},
     "output_type": "execute_result"
    }
   ],
   "source": [
    "\n",
    "\n",
    "\n",
    "df=df.drop(['Payment ID',\n",
    " 'Card Brand',\n",
    " 'PAN Suffix',\n",
    " 'Device Name',\n",
    " 'Staff Name',\n",
    " 'Staff ID',\n",
    " 'Description',\n",
    " 'Event Type',\n",
    " 'Location',\n",
    " 'Dining Option',\n",
    " 'Customer ID',\n",
    " 'Customer Reference ID',\n",
    " 'Device Nickname',\n",
    " 'Deposit ID',\n",
    " 'Deposit Date',\n",
    " 'Deposit Details',\n",
    " 'Fee Percentage Rate',\n",
    " 'Fee Fixed Rate',\n",
    " 'Refund Reason',\n",
    " 'Discount Name'], axis=1)\n",
    "list(df.columns)"
   ]
  },
  {
   "cell_type": "code",
   "execution_count": 33,
   "metadata": {},
   "outputs": [
    {
     "data": {
      "text/html": [
       "<div>\n",
       "<style scoped>\n",
       "    .dataframe tbody tr th:only-of-type {\n",
       "        vertical-align: middle;\n",
       "    }\n",
       "\n",
       "    .dataframe tbody tr th {\n",
       "        vertical-align: top;\n",
       "    }\n",
       "\n",
       "    .dataframe thead th {\n",
       "        text-align: right;\n",
       "    }\n",
       "</style>\n",
       "<table border=\"1\" class=\"dataframe\">\n",
       "  <thead>\n",
       "    <tr style=\"text-align: right;\">\n",
       "      <th></th>\n",
       "      <th>Date</th>\n",
       "      <th>Transaction ID</th>\n",
       "      <th>Details</th>\n",
       "      <th>Customer Name</th>\n",
       "    </tr>\n",
       "  </thead>\n",
       "  <tbody>\n",
       "    <tr>\n",
       "      <th>0</th>\n",
       "      <td>2020-03-05</td>\n",
       "      <td>3dmZFxtAPM59UtRhSBo9LAC4Lg4F</td>\n",
       "      <td>https://squareup.com/dashboard/sales/transactions/3dmZFxtAPM59UtRhSBo9LAC4Lg4F/by-unit/B439B6GCX8P8S</td>\n",
       "      <td>Challis Lieurance</td>\n",
       "    </tr>\n",
       "    <tr>\n",
       "      <th>1</th>\n",
       "      <td>2020-03-04</td>\n",
       "      <td>aymtkt6F4lDOdpzG6R4UbTteV</td>\n",
       "      <td>https://squareup.com/dashboard/sales/transactions/aymtkt6F4lDOdpzG6R4UbTteV/by-unit/B439B6GCX8P8S</td>\n",
       "      <td>Christopher Coy</td>\n",
       "    </tr>\n",
       "    <tr>\n",
       "      <th>2</th>\n",
       "      <td>2020-03-04</td>\n",
       "      <td>rdtBaswn6ug0fBJmNRqDR7MmKf4F</td>\n",
       "      <td>https://squareup.com/dashboard/sales/transactions/rdtBaswn6ug0fBJmNRqDR7MmKf4F/by-unit/B439B6GCX8P8S</td>\n",
       "      <td>Peggy Nicholson</td>\n",
       "    </tr>\n",
       "    <tr>\n",
       "      <th>3</th>\n",
       "      <td>2020-03-04</td>\n",
       "      <td>rdZb0GzF7jCyU3QRU8rZk3nZUc4F</td>\n",
       "      <td>https://squareup.com/dashboard/sales/transactions/rdZb0GzF7jCyU3QRU8rZk3nZUc4F/by-unit/B439B6GCX8P8S</td>\n",
       "      <td>Eliza Hunholz</td>\n",
       "    </tr>\n",
       "    <tr>\n",
       "      <th>4</th>\n",
       "      <td>2020-03-04</td>\n",
       "      <td>NkGedYX2FHh52w7LeAAXcq72Ci4F</td>\n",
       "      <td>https://squareup.com/dashboard/sales/transactions/NkGedYX2FHh52w7LeAAXcq72Ci4F/by-unit/B439B6GCX8P8S</td>\n",
       "      <td>Brian Ellexson</td>\n",
       "    </tr>\n",
       "  </tbody>\n",
       "</table>\n",
       "</div>"
      ],
      "text/plain": [
       "        Date  \\\n",
       "0 2020-03-05   \n",
       "1 2020-03-04   \n",
       "2 2020-03-04   \n",
       "3 2020-03-04   \n",
       "4 2020-03-04   \n",
       "\n",
       "                 Transaction ID  \\\n",
       "0  3dmZFxtAPM59UtRhSBo9LAC4Lg4F   \n",
       "1  aymtkt6F4lDOdpzG6R4UbTteV      \n",
       "2  rdtBaswn6ug0fBJmNRqDR7MmKf4F   \n",
       "3  rdZb0GzF7jCyU3QRU8rZk3nZUc4F   \n",
       "4  NkGedYX2FHh52w7LeAAXcq72Ci4F   \n",
       "\n",
       "                                                                                                Details  \\\n",
       "0  https://squareup.com/dashboard/sales/transactions/3dmZFxtAPM59UtRhSBo9LAC4Lg4F/by-unit/B439B6GCX8P8S   \n",
       "1  https://squareup.com/dashboard/sales/transactions/aymtkt6F4lDOdpzG6R4UbTteV/by-unit/B439B6GCX8P8S      \n",
       "2  https://squareup.com/dashboard/sales/transactions/rdtBaswn6ug0fBJmNRqDR7MmKf4F/by-unit/B439B6GCX8P8S   \n",
       "3  https://squareup.com/dashboard/sales/transactions/rdZb0GzF7jCyU3QRU8rZk3nZUc4F/by-unit/B439B6GCX8P8S   \n",
       "4  https://squareup.com/dashboard/sales/transactions/NkGedYX2FHh52w7LeAAXcq72Ci4F/by-unit/B439B6GCX8P8S   \n",
       "\n",
       "       Customer Name  \n",
       "0  Challis Lieurance  \n",
       "1  Christopher Coy    \n",
       "2  Peggy Nicholson    \n",
       "3  Eliza Hunholz      \n",
       "4  Brian Ellexson     "
      ]
     },
     "execution_count": 33,
     "metadata": {},
     "output_type": "execute_result"
    }
   ],
   "source": [
    "\n",
    "df.head()"
   ]
  },
  {
   "cell_type": "code",
   "execution_count": 34,
   "metadata": {},
   "outputs": [
    {
     "data": {
      "text/html": [
       "<div>\n",
       "<style scoped>\n",
       "    .dataframe tbody tr th:only-of-type {\n",
       "        vertical-align: middle;\n",
       "    }\n",
       "\n",
       "    .dataframe tbody tr th {\n",
       "        vertical-align: top;\n",
       "    }\n",
       "\n",
       "    .dataframe thead th {\n",
       "        text-align: right;\n",
       "    }\n",
       "</style>\n",
       "<table border=\"1\" class=\"dataframe\">\n",
       "  <thead>\n",
       "    <tr style=\"text-align: right;\">\n",
       "      <th></th>\n",
       "      <th>Date</th>\n",
       "      <th>Transaction ID</th>\n",
       "      <th>Details</th>\n",
       "      <th>Customer Name</th>\n",
       "    </tr>\n",
       "  </thead>\n",
       "  <tbody>\n",
       "    <tr>\n",
       "      <th>0</th>\n",
       "      <td>2020-03-05</td>\n",
       "      <td>https://squareup.com/dashboard/orders/overview/3dmZFxtAPM59UtRhSBo9LAC4Lg4F</td>\n",
       "      <td>https://squareup.com/dashboard/sales/transactions/3dmZFxtAPM59UtRhSBo9LAC4Lg4F/by-unit/B439B6GCX8P8S</td>\n",
       "      <td>Challis Lieurance</td>\n",
       "    </tr>\n",
       "    <tr>\n",
       "      <th>1</th>\n",
       "      <td>2020-03-04</td>\n",
       "      <td>https://squareup.com/dashboard/orders/overview/aymtkt6F4lDOdpzG6R4UbTteV</td>\n",
       "      <td>https://squareup.com/dashboard/sales/transactions/aymtkt6F4lDOdpzG6R4UbTteV/by-unit/B439B6GCX8P8S</td>\n",
       "      <td>Christopher Coy</td>\n",
       "    </tr>\n",
       "    <tr>\n",
       "      <th>2</th>\n",
       "      <td>2020-03-04</td>\n",
       "      <td>https://squareup.com/dashboard/orders/overview/rdtBaswn6ug0fBJmNRqDR7MmKf4F</td>\n",
       "      <td>https://squareup.com/dashboard/sales/transactions/rdtBaswn6ug0fBJmNRqDR7MmKf4F/by-unit/B439B6GCX8P8S</td>\n",
       "      <td>Peggy Nicholson</td>\n",
       "    </tr>\n",
       "    <tr>\n",
       "      <th>3</th>\n",
       "      <td>2020-03-04</td>\n",
       "      <td>https://squareup.com/dashboard/orders/overview/rdZb0GzF7jCyU3QRU8rZk3nZUc4F</td>\n",
       "      <td>https://squareup.com/dashboard/sales/transactions/rdZb0GzF7jCyU3QRU8rZk3nZUc4F/by-unit/B439B6GCX8P8S</td>\n",
       "      <td>Eliza Hunholz</td>\n",
       "    </tr>\n",
       "    <tr>\n",
       "      <th>4</th>\n",
       "      <td>2020-03-04</td>\n",
       "      <td>https://squareup.com/dashboard/orders/overview/NkGedYX2FHh52w7LeAAXcq72Ci4F</td>\n",
       "      <td>https://squareup.com/dashboard/sales/transactions/NkGedYX2FHh52w7LeAAXcq72Ci4F/by-unit/B439B6GCX8P8S</td>\n",
       "      <td>Brian Ellexson</td>\n",
       "    </tr>\n",
       "  </tbody>\n",
       "</table>\n",
       "</div>"
      ],
      "text/plain": [
       "        Date  \\\n",
       "0 2020-03-05   \n",
       "1 2020-03-04   \n",
       "2 2020-03-04   \n",
       "3 2020-03-04   \n",
       "4 2020-03-04   \n",
       "\n",
       "                                                                Transaction ID  \\\n",
       "0  https://squareup.com/dashboard/orders/overview/3dmZFxtAPM59UtRhSBo9LAC4Lg4F   \n",
       "1  https://squareup.com/dashboard/orders/overview/aymtkt6F4lDOdpzG6R4UbTteV      \n",
       "2  https://squareup.com/dashboard/orders/overview/rdtBaswn6ug0fBJmNRqDR7MmKf4F   \n",
       "3  https://squareup.com/dashboard/orders/overview/rdZb0GzF7jCyU3QRU8rZk3nZUc4F   \n",
       "4  https://squareup.com/dashboard/orders/overview/NkGedYX2FHh52w7LeAAXcq72Ci4F   \n",
       "\n",
       "                                                                                                Details  \\\n",
       "0  https://squareup.com/dashboard/sales/transactions/3dmZFxtAPM59UtRhSBo9LAC4Lg4F/by-unit/B439B6GCX8P8S   \n",
       "1  https://squareup.com/dashboard/sales/transactions/aymtkt6F4lDOdpzG6R4UbTteV/by-unit/B439B6GCX8P8S      \n",
       "2  https://squareup.com/dashboard/sales/transactions/rdtBaswn6ug0fBJmNRqDR7MmKf4F/by-unit/B439B6GCX8P8S   \n",
       "3  https://squareup.com/dashboard/sales/transactions/rdZb0GzF7jCyU3QRU8rZk3nZUc4F/by-unit/B439B6GCX8P8S   \n",
       "4  https://squareup.com/dashboard/sales/transactions/NkGedYX2FHh52w7LeAAXcq72Ci4F/by-unit/B439B6GCX8P8S   \n",
       "\n",
       "       Customer Name  \n",
       "0  Challis Lieurance  \n",
       "1  Christopher Coy    \n",
       "2  Peggy Nicholson    \n",
       "3  Eliza Hunholz      \n",
       "4  Brian Ellexson     "
      ]
     },
     "execution_count": 34,
     "metadata": {},
     "output_type": "execute_result"
    }
   ],
   "source": [
    "\n",
    "df['Transaction ID'] = df['Transaction ID'].apply(lambda x: 'https://squareup.com/dashboard/orders/overview/'+x) #transform text to lowercase\n",
    "df.head()"
   ]
  },
  {
   "cell_type": "markdown",
   "metadata": {},
   "source": [
    "### Data exploration"
   ]
  },
  {
   "cell_type": "code",
   "execution_count": 205,
   "metadata": {},
   "outputs": [
    {
     "data": {
      "text/plain": [
       "<matplotlib.axes._subplots.AxesSubplot at 0x1a438e8400>"
      ]
     },
     "execution_count": 205,
     "metadata": {},
     "output_type": "execute_result"
    },
    {
     "data": {
      "image/png": "[encoded data removed]",
      "text/plain": [
       "<Figure size 432x288 with 1 Axes>"
      ]
     },
     "metadata": {
      "needs_background": "light"
     },
     "output_type": "display_data"
    }
   ],
   "source": [
    "df['Sentiment'].value_counts().sort_index().plot.bar()"
   ]
  },
  {
   "cell_type": "code",
   "execution_count": 196,
   "metadata": {},
   "outputs": [
    {
     "data": {
      "text/plain": [
       "<matplotlib.axes._subplots.AxesSubplot at 0x1a58d52ac8>"
      ]
     },
     "execution_count": 196,
     "metadata": {},
     "output_type": "execute_result"
    },
    {
     "data": {
      "image/png": "[encoded data removed]",
      "text/plain": [
       "<Figure size 432x288 with 1 Axes>"
      ]
     },
     "metadata": {
      "needs_background": "light"
     },
     "output_type": "display_data"
    }
   ],
   "source": [
    "df['Survey Comment'].str.len().plot.hist()"
   ]
  },
  {
   "cell_type": "markdown",
   "metadata": {},
   "source": [
    "### Preprocessing"
   ]
  },
  {
   "cell_type": "code",
   "execution_count": 197,
   "metadata": {},
   "outputs": [
    {
     "name": "stdout",
     "output_type": "stream",
     "text": [
      "32\n"
     ]
    }
   ],
   "source": [
    "tokenizer = Tokenizer(num_words=5000, split=\" \")\n",
    "tokenizer.fit_on_texts(df['Survey Comment'].values)\n",
    "\n",
    "X = tokenizer.texts_to_sequences(df['Survey Comment'].values)\n",
    "X = pad_sequences(X) # padding our text vector so they all have the same length\n",
    "X[:5]\n",
    "print(X.shape[1])"
   ]
  },
  {
   "cell_type": "markdown",
   "metadata": {},
   "source": [
    "### Creating model"
   ]
  },
  {
   "cell_type": "code",
   "execution_count": 198,
   "metadata": {},
   "outputs": [],
   "source": [
    "model = Sequential()\n",
    "model.add(Embedding(5000, 256, input_length=X.shape[1]))\n",
    "model.add(Dropout(0.3))\n",
    "model.add(LSTM(256, return_sequences=True, dropout=0.3, recurrent_dropout=0.2))\n",
    "model.add(LSTM(256, dropout=0.3, recurrent_dropout=0.2))\n",
    "model.add(Dense(3, activation='softmax'))"
   ]
  },
  {
   "cell_type": "code",
   "execution_count": 199,
   "metadata": {},
   "outputs": [
    {
     "name": "stdout",
     "output_type": "stream",
     "text": [
      "_________________________________________________________________\n",
      "Layer (type)                 Output Shape              Param #   \n",
      "=================================================================\n",
      "embedding_7 (Embedding)      (None, 32, 256)           1280000   \n",
      "_________________________________________________________________\n",
      "dropout_7 (Dropout)          (None, 32, 256)           0         \n",
      "_________________________________________________________________\n",
      "lstm_13 (LSTM)               (None, 32, 256)           525312    \n",
      "_________________________________________________________________\n",
      "lstm_14 (LSTM)               (None, 256)               525312    \n",
      "_________________________________________________________________\n",
      "dense_7 (Dense)              (None, 3)                 771       \n",
      "=================================================================\n",
      "Total params: 2,331,395\n",
      "Trainable params: 2,331,395\n",
      "Non-trainable params: 0\n",
      "_________________________________________________________________\n"
     ]
    }
   ],
   "source": [
    "model.compile(loss='categorical_crossentropy', optimizer='adam', metrics=['accuracy'])\n",
    "model.summary()"
   ]
  },
  {
   "cell_type": "code",
   "execution_count": 200,
   "metadata": {},
   "outputs": [
    {
     "name": "stdout",
     "output_type": "stream",
     "text": [
      "[[1 0 0]\n",
      " [1 0 0]\n",
      " [0 0 1]]\n",
      "['negative' 'negative' 'positive' ... 'negative' 'negative' 'negative']\n"
     ]
    }
   ],
   "source": [
    "y = pd.get_dummies(df['Sentiment']).values\n",
    "print(y[:3])\n",
    "print(df['Sentiment'].values)\n",
    "df=df.reset_index(drop=True)\n"
   ]
  },
  {
   "cell_type": "code",
   "execution_count": 201,
   "metadata": {},
   "outputs": [],
   "source": [
    "X_train, X_test, y_train, y_test = train_test_split(X, y, test_size=0.2, random_state=0)"
   ]
  },
  {
   "cell_type": "markdown",
   "metadata": {},
   "source": [
    "### Training model"
   ]
  },
  {
   "cell_type": "code",
   "execution_count": 202,
   "metadata": {},
   "outputs": [
    {
     "name": "stdout",
     "output_type": "stream",
     "text": [
      "Epoch 1/8\n",
      " - 45s - loss: 0.6606 - acc: 0.7245\n",
      "Epoch 2/8\n",
      " - 44s - loss: 0.4495 - acc: 0.8289\n",
      "Epoch 3/8\n",
      " - 44s - loss: 0.3627 - acc: 0.8609\n",
      "Epoch 4/8\n",
      " - 43s - loss: 0.3018 - acc: 0.8854\n",
      "Epoch 5/8\n",
      " - 43s - loss: 0.2572 - acc: 0.9058\n",
      "Epoch 6/8\n",
      " - 47s - loss: 0.2122 - acc: 0.9245\n",
      "Epoch 7/8\n",
      " - 45s - loss: 0.1825 - acc: 0.9316\n",
      "Epoch 8/8\n",
      " - 48s - loss: 0.1609 - acc: 0.9395\n"
     ]
    },
    {
     "data": {
      "text/plain": [
       "<keras.callbacks.History at 0x1a58b7f080>"
      ]
     },
     "execution_count": 202,
     "metadata": {},
     "output_type": "execute_result"
    }
   ],
   "source": [
    "batch_size = 32\n",
    "epochs = 8\n",
    "\n",
    "model.fit(X_train, y_train, epochs=epochs, batch_size=batch_size, verbose=2)"
   ]
  },
  {
   "cell_type": "markdown",
   "metadata": {},
   "source": [
    "### Persist Model and Scaler"
   ]
  },
  {
   "cell_type": "code",
   "execution_count": 203,
   "metadata": {},
   "outputs": [],
   "source": [
    "from sklearn.externals import joblib\n",
    "tokenizer_filename = \"nps_token_scaler.save\"\n",
    "joblib.dump(tokenizer, tokenizer_filename) \n",
    "model.save('nps_sentiment_analysis_2.h5')"
   ]
  },
  {
   "cell_type": "markdown",
   "metadata": {},
   "source": [
    "### Testing model"
   ]
  },
  {
   "cell_type": "code",
   "execution_count": 170,
   "metadata": {},
   "outputs": [
    {
     "data": {
      "text/plain": [
       "array([[   0,    0,    0, ...,  122,    4,    7],\n",
       "       [   0,    0,    0, ...,   10,    7,   17],\n",
       "       [   0,    0,    0, ...,    5,  216, 1365],\n",
       "       ...,\n",
       "       [   0,    0,    0, ...,   28,  533,  238],\n",
       "       [   0,    0,    0, ...,   20,    5,   98],\n",
       "       [   0,    0,    0, ..., 3245,   22,  200]], dtype=int32)"
      ]
     },
     "execution_count": 170,
     "metadata": {},
     "output_type": "execute_result"
    }
   ],
   "source": [
    "X_test"
   ]
  },
  {
   "cell_type": "code",
   "execution_count": 172,
   "metadata": {},
   "outputs": [
    {
     "name": "stdout",
     "output_type": "stream",
     "text": [
      "  Sentiment                                     Survey Comment\n",
      "0  negative   axway products are too complicated and diffic...\n",
      "1  negative   i might as well be alone here just terrible c...\n",
      "2  positive   we are having great success with the new api ...\n",
      "3  positive   i have been around since the appcelerator day...\n",
      "4   neutral   meh it is ok it gets the job done could be be...\n",
      "[[9.8841232e-01 1.0141829e-02 1.4458764e-03]\n",
      " [9.9984694e-01 1.4845000e-04 4.6928308e-06]\n",
      " [1.2972017e-03 2.4823491e-03 9.9622053e-01]\n",
      " [4.4325492e-03 3.7734900e-03 9.9179393e-01]\n",
      " [2.4167903e-02 9.7491395e-01 9.1815245e-04]]\n"
     ]
    }
   ],
   "source": [
    "predictions = model.predict(X[:5])\n",
    "print(df[:5])\n",
    "print(predictions)\n"
   ]
  },
  {
   "cell_type": "code",
   "execution_count": null,
   "metadata": {},
   "outputs": [],
   "source": []
  }
 ],
 "metadata": {
  "kernelspec": {
   "display_name": "Python 3",
   "language": "python",
   "name": "python3"
  },
  "language_info": {
   "codemirror_mode": {
    "name": "ipython",
    "version": 3
   },
   "file_extension": ".py",
   "mimetype": "text/x-python",
   "name": "python",
   "nbconvert_exporter": "python",
   "pygments_lexer": "ipython3",
   "version": "3.7.1"
  }
 },
 "nbformat": 4,
 "nbformat_minor": 2
}
